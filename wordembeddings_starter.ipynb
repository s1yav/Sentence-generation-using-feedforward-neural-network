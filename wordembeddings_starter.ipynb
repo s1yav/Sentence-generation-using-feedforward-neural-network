{
 "cells": [
  {
   "cell_type": "markdown",
   "metadata": {
    "id": "UjJn2R-Ft8Gi"
   },
   "source": [
    "For this homework, make sure that you format your notbook nicely and cite all sources in the appropriate sections. Programmatically generate or embed any figures or graphs that you need.\n",
    "\n",
    "Names: __SRIYA VENKATESH__"
   ]
  },
  {
   "cell_type": "markdown",
   "metadata": {
    "id": "lzwlPkjgt8Gq"
   },
   "source": [
    "Step 1: Train your own word embeddings\n",
    "--------------------------------\n",
    "### DESCRIPTION OF DATASETS:\n",
    "### PROVIDED DATASET: SHAKESPEARE PLAYS\n",
    "#### The shakespeare plays dataset consists of all the works of shakespeare. \n",
    "* all the words were in lower case\n",
    "* the dataset was split into lines\n",
    "* There were no punctuations in the dataset\n",
    "* there were no blank lines in the dataset\n",
    "\n",
    "\n",
    "### CHOSEN DATASET: WAR AND PEACE BY LEO TOLSTOY\n",
    "* the dataset was preprocessed before the program in BBEedit to remove blank line and convert the dataset to lower case\n",
    "* the dataset was made into a similar format as the shkespeare plays dataset\n",
    "* all the words were in lower case\n",
    "* the dataset was split into lines\n",
    "* There were no punctuations in the dataset\n",
    "\n",
    "Similarities between the chosen and provided dataset:\n",
    "* Both the datasets are in English\n",
    "* Both the data sets are old literary works written by famous play writers\n",
    "* both the datasets have a similar format\n",
    "* the datsets have very few grammatical errors as they are written by famous authors\n",
    "* they are both old english works and thus have pretty old english in them\n",
    "\n",
    "Constrasts with chosen provided dataset:\n",
    "* The vocabulary in the shakespeare plays dataset wa smuch larger than the war and peace datset at 100% o fthe dataset.\n",
    "* Moreover, the shakespere dataset has a different type of english language as compared to war and peace as the former was written a very long time ago and war and peace much later\n",
    "* The sentences in war and peace are more continuous and coherent and the grammer is much more esy to understand\n",
    "* the war and peace dataset has mentions of real world places whereas it is much more fictional in shakespeare\n",
    "\n"
   ]
  },
  {
   "cell_type": "code",
   "execution_count": 1,
   "metadata": {
    "ExecuteTime": {
     "end_time": "2020-10-24T03:27:00.340250Z",
     "start_time": "2020-10-24T03:26:59.570883Z"
    },
    "id": "uQLg8dGdt8Gr"
   },
   "outputs": [],
   "source": [
    "# import your libraries here\n",
    "\n",
    "from typing import List, Dict\n",
    "\n",
    "\n",
    "from gensim.models import Word2Vec\n",
    "\n",
    "from multiprocessing import cpu_count\n",
    "\n",
    "\n",
    "from gensim.parsing.preprocessing import stem_text, remove_stopwords, strip_punctuation\n",
    "from nltk.tokenize import RegexpTokenizer\n",
    "from nltk import ngrams\n",
    "from sklearn.manifold import TSNE\n",
    "from os import path\n",
    "import random\n",
    "perc = 50\n",
    "from gensim.models import KeyedVectors\n",
    "import numpy as np\n",
    "from keras.preprocessing.text import Tokenizer\n",
    "import matplotlib.pyplot as plt\n",
    "import matplotlib.cm as cm\n",
    "%matplotlib inline\n",
    "\n",
    "from pathlib import Path\n",
    "from collections import Counter\n",
    "\n",
    "\n"
   ]
  },
  {
   "cell_type": "markdown",
   "metadata": {},
   "source": [
    "#### PROVIDED DATASET : war_and_peace = './war_and_peace.txt'\n",
    "#### CHOSEN DATASET : s_s = './shakespeare_plays.txt'"
   ]
  },
  {
   "cell_type": "code",
   "execution_count": 2,
   "metadata": {},
   "outputs": [],
   "source": [
    "# declaring file paths for the  datasets\n",
    "war_and_peace = './war_and_peace.txt'\n",
    "s_s = './shakespeare_plays.txt'"
   ]
  },
  {
   "cell_type": "code",
   "execution_count": 3,
   "metadata": {},
   "outputs": [],
   "source": [
    "\n",
    "def data_to_sentences(file_path : str)-> list:\n",
    "    \"\"\"\n",
    "    returns : List[List[str]] of all the sentences in the given file\n",
    "    \"\"\"\n",
    "    tokenizer = RegexpTokenizer(r'\\w+')\n",
    "    lines = []\n",
    "    with open(file_path, \"r\") as file:\n",
    "        for line in file:\n",
    "            line = tokenizer.tokenize(line.rstrip('\\n'))\n",
    "\n",
    "            line.insert(0,'<s>')\n",
    "            line.append('</s>')\n",
    "            lines.append(line)\n",
    "    file.close()\n",
    "    return lines\n",
    "    pass"
   ]
  },
  {
   "cell_type": "code",
   "execution_count": 4,
   "metadata": {},
   "outputs": [],
   "source": [
    "# all sentences in the dataset\n",
    "all_sentences_wap = data_to_sentences(war_and_peace)\n",
    "all_sentences_s = data_to_sentences(s_s)\n",
    "\n",
    "# getting lines of the tokenized data\n",
    "def get_certain_percent(all_sentences : list) -> list:\n",
    "    length = len(all_sentences)\n",
    "    end_of_data = int( length * perc * .01)\n",
    "    perc_sent = all_sentences[0:end_of_data]\n",
    "    return perc_sent\n",
    "pass\n"
   ]
  },
  {
   "cell_type": "code",
   "execution_count": 5,
   "metadata": {},
   "outputs": [],
   "source": [
    "sentences_wap = get_certain_percent(all_sentences_wap)\n",
    "sentences_s = get_certain_percent(all_sentences_s)"
   ]
  },
  {
   "cell_type": "code",
   "execution_count": 6,
   "metadata": {},
   "outputs": [],
   "source": [
    "\n",
    "def vocabulary(sentences:list):\n",
    "    \"\"\"\n",
    "    returns word_count\n",
    "    \n",
    "    \"\"\"\n",
    "    word_counts = Counter()\n",
    "    \n",
    "    tokens_gen = list(np.concatenate(sentences).flat)\n",
    "    word_counts = Counter(tokens_gen)\n",
    "            \n",
    "    return word_counts\n",
    "    pass\n"
   ]
  },
  {
   "cell_type": "markdown",
   "metadata": {
    "id": "mj0A0mCkt8Gt"
   },
   "source": [
    "### a) Train embeddings on GIVEN dataset \n",
    "## and \n",
    "### b) Train embedding on YOUR dataset"
   ]
  },
  {
   "cell_type": "code",
   "execution_count": 7,
   "metadata": {
    "ExecuteTime": {
     "end_time": "2020-10-24T04:39:25.438770Z",
     "start_time": "2020-10-24T04:39:24.888507Z"
    },
    "id": "x2IJbX_Mt8Gu"
   },
   "outputs": [],
   "source": [
    "# code to train your word embeddings\n",
    "\n",
    "# Read the file and prepare the training data \n",
    "# so that it is in the following format\n",
    "\n",
    "# data = [['this', 'is', 'the', 'first', 'sentence', 'for', 'word2vec'],\n",
    "# \t\t\t['this', 'is', 'the', 'second', 'sentence'],\n",
    "# \t\t\t['yet', 'another', 'sentence'],\n",
    "# \t\t\t['one', 'more', 'sentence'],\n",
    "# \t\t\t['and', 'the', 'final', 'sentence']]\n"
   ]
  },
  {
   "cell_type": "code",
   "execution_count": 8,
   "metadata": {
    "ExecuteTime": {
     "end_time": "2020-10-24T04:39:38.482701Z",
     "start_time": "2020-10-24T04:39:28.044970Z"
    },
    "id": "Od_L53GEt8Gv"
   },
   "outputs": [],
   "source": [
    "from gensim.models import Word2Vec\n",
    "\n",
    "# The dimension of word embedding. \n",
    "# This variable will be used throughout the program\n",
    "# you may vary this as you desire\n",
    "EMBEDDINGS_SIZE = 200\n",
    "\n",
    "# Train the Word2Vec model from Gensim. \n",
    "# Below are the hyperparameters that are most relevant. \n",
    "# But feel free to explore other \n",
    "# options too:\n",
    "sg = 1.\n",
    "window = 5\n",
    "size = EMBEDDINGS_SIZE\n",
    "min_count = 1\n",
    "# workers = cpu_count()\n",
    "sorted_vocab = 1 \n",
    "\n",
    "\n",
    "def make_model_file_path(name: str, sentences: list):\n",
    "    \"\"\"makes embeddings and saves embeddings\n",
    "    \"\"\"\n",
    "\n",
    "    model = Word2Vec(sentences=sentences, vector_size=size, window=window, min_count=min_count, \n",
    "        sg=sg, sorted_vocab=sorted_vocab)\n",
    "\n",
    "    file_name = f'word2vec.{name}.model'\n",
    "    \n",
    "    model_path = f'{name}/model'\n",
    "\n",
    "    Path(model_path).mkdir(parents=True, exist_ok=True)\n",
    "    file_path = f'{model_path}/{file_name}'\n",
    "    model.save(file_path)\n",
    "    \n",
    "    return file_path\n",
    "    pass\n",
    "\n",
    "def word_vector_file_path(name: str, sentences: list):\n",
    "    \"\"\"makes word vectors and saves embeddings\n",
    "    \"\"\"\n",
    "    model = Word2Vec(sentences=sentences, vector_size=size, window=window, min_count=min_count, \n",
    "        sg=sg, sorted_vocab=sorted_vocab)\n",
    "\n",
    "    word_vec = f'word2vec.{name}.wordvectors'\n",
    "    word_vec = model.wv\n",
    "    vectors_path = f'{name}/wordvectors'\n",
    " \n",
    "    Path(vectors_path).mkdir(parents=True, exist_ok=True)\n",
    "    vectors_file_path = f'{vectors_path}/{word_vec}'\n",
    "    word_vec.save(vectors_file_path)\n",
    "    return vectors_file_path\n",
    "    pass"
   ]
  },
  {
   "cell_type": "code",
   "execution_count": 9,
   "metadata": {},
   "outputs": [],
   "source": [
    "\n",
    "\n",
    "wap_model = Word2Vec(sentences= sentences_wap, vector_size=EMBEDDINGS_SIZE, window=5, min_count=1, sg = 1)\n",
    "s_model = Word2Vec(sentences= sentences_s, vector_size=EMBEDDINGS_SIZE, window=5, min_count=1, sg = 1)\n",
    "\n",
    "# saving the model\n",
    "wap_model.save(\"sriya_word2vec.model_wap\")\n",
    "s_model.save(\"sriya_word2vec.model_s\")"
   ]
  },
  {
   "cell_type": "code",
   "execution_count": 10,
   "metadata": {},
   "outputs": [],
   "source": [
    "model_path_s  = make_model_file_path(\"ss\" , sentences_s)\n",
    "vector_path_s = word_vector_file_path(\"ss\" , sentences_s)\n",
    "model_path_wap = make_model_file_path(\"wap\", sentences_wap)\n",
    "vector_path_wap = word_vector_file_path(\"wap\", sentences_wap)"
   ]
  },
  {
   "cell_type": "markdown",
   "metadata": {},
   "source": [
    "##### calculating vocabulary size"
   ]
  },
  {
   "cell_type": "code",
   "execution_count": 11,
   "metadata": {
    "ExecuteTime": {
     "end_time": "2020-10-24T04:39:43.448249Z",
     "start_time": "2020-10-24T04:39:43.444835Z"
    },
    "id": "xrt52ahnt8Gw"
   },
   "outputs": [],
   "source": [
    "# if you save your Word2Vec as the variable model, this will \n",
    "# print out the vocabulary size\n",
    "# print('Vocab size {}'.format(len(model.wv.vocab)))\n",
    "\n",
    "word_to_vec_model_s = Word2Vec.load(model_path_s)\n",
    "\n",
    "\n",
    "\n",
    "word_to_vec_model_wap = Word2Vec.load(model_path_wap)\n"
   ]
  },
  {
   "cell_type": "code",
   "execution_count": 12,
   "metadata": {
    "ExecuteTime": {
     "end_time": "2020-10-24T04:39:48.730304Z",
     "start_time": "2020-10-24T04:39:45.451960Z"
    },
    "id": "UUanXgQLt8Gy"
   },
   "outputs": [],
   "source": [
    "# You can save file in txt format, then load later if you wish.\n",
    "# model.wv.save_word2vec_format('embeddings.txt', binary=False)\n",
    "\n",
    "# You can save file in txt format, then load later if you wish.\n",
    "# make sure all the parent folders exists\n",
    "p = True\n",
    "e_o = True\n",
    "b = False\n",
    "\n",
    "path_embeddings_s = f'{\"ss\"}/embeddings'\n",
    "Path(path_embeddings_s).mkdir(parents=p, exist_ok=e_o)\n",
    "word_to_vec_model_s.wv.save_word2vec_format(f'{path_embeddings_s}/{\"ss\"}_embeddings.txt', binary=b)\n",
    "\n",
    "path_embeddings_wap = f'{\"wap\"}/embeddings'\n",
    "Path(path_embeddings_wap).mkdir(parents=p, exist_ok=e_o)\n",
    "word_to_vec_model_wap.wv.save_word2vec_format(f'{path_embeddings_wap}/{\"wap\"}_embeddings.txt', binary=b)"
   ]
  },
  {
   "cell_type": "markdown",
   "metadata": {
    "id": "BsjzTVFjt8G1"
   },
   "source": [
    "## What text-normalization and pre-processing did you do and why? \n",
    "### PREPROCESSING AND NORMALIZATION:\n",
    "\n",
    "#### 1.Convert all the words to lower case \n",
    "#### 2.Remove punctations\n",
    "#### 3.Removing all the blank lines in the dataset\n",
    "* Convert all the words to lower case \n",
    "    * Reduces vocabulary size and gives fewer embeddings, this decreases runtime and increases performance       relative to accuracy.\n",
    "    \n",
    "* Remove punctations:\n",
    "    * Reduces vocabulary size and gives fewer embeddings, this decreases runtime and increases performance       relative to accuracy.\n",
    "    \n",
    "* removing all the blank lines in the dataset :\n",
    "    * This prevents any unwanted calculatins and prevents any inaccurate numbers. This was observed by me in HW2 and so I followed it here.\n",
    "\n",
    "\n"
   ]
  },
  {
   "cell_type": "markdown",
   "metadata": {
    "id": "aOFmHpH8t8G2"
   },
   "source": [
    "Step 2: Evaluate the differences between the word embeddings\n",
    "----------------------------\n",
    "\n",
    "(make sure to include graphs, figures, and paragraphs with full sentences)"
   ]
  },
  {
   "cell_type": "code",
   "execution_count": 13,
   "metadata": {
    "id": "NXjy2-OqgvIf"
   },
   "outputs": [],
   "source": [
    "\n",
    "def most_occuring_words(sentences:str):\n",
    "    \"\"\"get the top most common words in the file\n",
    "    \"\"\"\n",
    "    # f the number of most common words\n",
    "    f = 10\n",
    "    \n",
    "    dict_word_counts = vocabulary(sentences)\n",
    "    \n",
    "    dict_word_counts[\"<s>\"] = 0\n",
    "    dict_word_counts[\"</s>\"] = 0\n",
    "    \n",
    "    common_words = []\n",
    "    for j in dict_word_counts.most_common(f):\n",
    "        common_words.append(j[0])\n",
    "\n",
    "    return common_words\n",
    "    pass"
   ]
  },
  {
   "cell_type": "markdown",
   "metadata": {},
   "source": [
    "### for shakespeare dataset"
   ]
  },
  {
   "cell_type": "code",
   "execution_count": 14,
   "metadata": {},
   "outputs": [],
   "source": [
    "\n",
    "wv_s = KeyedVectors.load(vector_path_s, mmap='r')\n",
    "keys_s = most_occuring_words(sentences_s)\n"
   ]
  },
  {
   "cell_type": "markdown",
   "metadata": {},
   "source": [
    "### for war and peace data set"
   ]
  },
  {
   "cell_type": "code",
   "execution_count": 15,
   "metadata": {},
   "outputs": [],
   "source": [
    "\n",
    "wv_wap = KeyedVectors.load(vector_path_wap, mmap='r')\n",
    "keys_wap = most_occuring_words(sentences_wap)\n"
   ]
  },
  {
   "cell_type": "markdown",
   "metadata": {},
   "source": [
    "##### inserting clusters"
   ]
  },
  {
   "cell_type": "code",
   "execution_count": 16,
   "metadata": {},
   "outputs": [],
   "source": [
    "def word_clusters(model, keys:Dict):\n",
    "    '''\n",
    "    returns word_clusters\n",
    "    '''\n",
    "\n",
    "    clusters = []\n",
    "    for w in keys:\n",
    "        ws = []\n",
    "\n",
    "        for similar, _ in model.wv.most_similar(w, topn=10):\n",
    "            ws.append(similar)\n",
    "\n",
    "\n",
    "        clusters.append(ws)\n",
    "    return clusters"
   ]
  },
  {
   "cell_type": "code",
   "execution_count": 17,
   "metadata": {},
   "outputs": [],
   "source": [
    "def generate_embeddings(model, keys:Dict):\n",
    "    '''\n",
    "    generate  embedding clusters  \n",
    "   '''\n",
    "    clusters = []\n",
    "\n",
    "    for w in keys:\n",
    "        emb = []\n",
    "\n",
    "        for similar, _ in model.wv.most_similar(w, topn=10):\n",
    "\n",
    "            emb.append(model.wv[similar])\n",
    "        clusters.append(emb)\n",
    "\n",
    "    return clusters"
   ]
  },
  {
   "cell_type": "markdown",
   "metadata": {},
   "source": [
    "##### insert tsne here"
   ]
  },
  {
   "cell_type": "code",
   "execution_count": 18,
   "metadata": {},
   "outputs": [],
   "source": [
    "def tsne_plot_similar_words(title:str, labels, embedding_clusters, word_clusters, a:float, perplexity:int, filename:str=None):\n",
    "    \"\"\"\n",
    "    function to plot similar words\n",
    "    \"\"\"\n",
    "    embedding_clusters = np.array(embedding_clusters)\n",
    "    f, g, h = embedding_clusters.shape\n",
    "    \n",
    "    model_en_2d_tsne = TSNE(perplexity=perplexity, n_components=2, init='pca', n_iter = 3500, random_state= 33)\n",
    "    embeddings_tsne = np.array(model_en_2d_tsne.fit_transform(embedding_clusters.reshape(f * g, h))).reshape(f, g, 2)\n",
    "\n",
    "    plt.figure(figsize=(16, 9))\n",
    "    \n",
    "    colors = cm.rainbow(np.linspace(0, 1, len(labels)))\n",
    "    for label, embeddings, words, color in zip(labels, embeddings_tsne, word_clusters, colors):\n",
    "        x = embeddings[:, 0]\n",
    "        y = embeddings[:, 1]\n",
    "        plt.scatter(x, y, c=color, alpha=a, label=label)\n",
    "        for i, word in enumerate(words):\n",
    "            plt.annotate(word, alpha=0.5, xy=(x[i], y[i]), xytext=(5, 2),\n",
    "                         textcoords='offset points', ha='right', va='bottom', size=8)\n",
    "    plt.legend(loc=4)\n",
    "    plt.title(title)\n",
    "    plt.grid(True)\n",
    "    if filename:\n",
    "        plt.savefig(filename, format='png', dpi=150, bbox_inches='tight')\n",
    "    plt.show()"
   ]
  },
  {
   "cell_type": "markdown",
   "metadata": {},
   "source": [
    "## SHAKESPEARE PLAYS PLOTS"
   ]
  },
  {
   "cell_type": "code",
   "execution_count": 49,
   "metadata": {},
   "outputs": [
    {
     "name": "stderr",
     "output_type": "stream",
     "text": [
      "*c* argument looks like a single numeric RGB or RGBA sequence, which should be avoided as value-mapping will have precedence in case its length matches with *x* & *y*.  Please use the *color* keyword-argument or provide a 2D array with a single row if you intend to specify the same RGB or RGBA value for all points.\n",
      "*c* argument looks like a single numeric RGB or RGBA sequence, which should be avoided as value-mapping will have precedence in case its length matches with *x* & *y*.  Please use the *color* keyword-argument or provide a 2D array with a single row if you intend to specify the same RGB or RGBA value for all points.\n",
      "*c* argument looks like a single numeric RGB or RGBA sequence, which should be avoided as value-mapping will have precedence in case its length matches with *x* & *y*.  Please use the *color* keyword-argument or provide a 2D array with a single row if you intend to specify the same RGB or RGBA value for all points.\n",
      "*c* argument looks like a single numeric RGB or RGBA sequence, which should be avoided as value-mapping will have precedence in case its length matches with *x* & *y*.  Please use the *color* keyword-argument or provide a 2D array with a single row if you intend to specify the same RGB or RGBA value for all points.\n",
      "*c* argument looks like a single numeric RGB or RGBA sequence, which should be avoided as value-mapping will have precedence in case its length matches with *x* & *y*.  Please use the *color* keyword-argument or provide a 2D array with a single row if you intend to specify the same RGB or RGBA value for all points.\n",
      "*c* argument looks like a single numeric RGB or RGBA sequence, which should be avoided as value-mapping will have precedence in case its length matches with *x* & *y*.  Please use the *color* keyword-argument or provide a 2D array with a single row if you intend to specify the same RGB or RGBA value for all points.\n",
      "*c* argument looks like a single numeric RGB or RGBA sequence, which should be avoided as value-mapping will have precedence in case its length matches with *x* & *y*.  Please use the *color* keyword-argument or provide a 2D array with a single row if you intend to specify the same RGB or RGBA value for all points.\n",
      "*c* argument looks like a single numeric RGB or RGBA sequence, which should be avoided as value-mapping will have precedence in case its length matches with *x* & *y*.  Please use the *color* keyword-argument or provide a 2D array with a single row if you intend to specify the same RGB or RGBA value for all points.\n",
      "*c* argument looks like a single numeric RGB or RGBA sequence, which should be avoided as value-mapping will have precedence in case its length matches with *x* & *y*.  Please use the *color* keyword-argument or provide a 2D array with a single row if you intend to specify the same RGB or RGBA value for all points.\n",
      "*c* argument looks like a single numeric RGB or RGBA sequence, which should be avoided as value-mapping will have precedence in case its length matches with *x* & *y*.  Please use the *color* keyword-argument or provide a 2D array with a single row if you intend to specify the same RGB or RGBA value for all points.\n"
     ]
    },
    {
     "data": {
      "image/png": "[encoded data removed]",
      "text/plain": [
       "<Figure size 1152x648 with 1 Axes>"
      ]
     },
     "metadata": {
      "needs_background": "light"
     },
     "output_type": "display_data"
    }
   ],
   "source": [
    "\n",
    "\n",
    "embeddings_clusters_s = generate_embeddings(word_to_vec_model_s, keys_s)\n",
    "word_clusters_s = word_clusters(word_to_vec_model_s, keys_s)\n",
    "\n",
    "\n",
    "folder_path_s_img = f'{\"ss\"}/images'\n",
    "Path(folder_path_s_img).mkdir(parents=True, exist_ok=True)\n",
    "plot_file_path_s = f'{folder_path_s_img}/similar_words_perplexity_{\"90\"}.png'\n",
    "\n",
    "\n",
    "tsne_plot_similar_words (f'{\"shakespeare\"}',keys_s, embeddings_clusters_s, word_clusters_s, 0.7, 100,\n",
    "    plot_file_path_s)"
   ]
  },
  {
   "cell_type": "markdown",
   "metadata": {},
   "source": [
    "## WAR AND PEACE PLOTS"
   ]
  },
  {
   "cell_type": "code",
   "execution_count": 20,
   "metadata": {},
   "outputs": [
    {
     "name": "stderr",
     "output_type": "stream",
     "text": [
      "*c* argument looks like a single numeric RGB or RGBA sequence, which should be avoided as value-mapping will have precedence in case its length matches with *x* & *y*.  Please use the *color* keyword-argument or provide a 2D array with a single row if you intend to specify the same RGB or RGBA value for all points.\n",
      "*c* argument looks like a single numeric RGB or RGBA sequence, which should be avoided as value-mapping will have precedence in case its length matches with *x* & *y*.  Please use the *color* keyword-argument or provide a 2D array with a single row if you intend to specify the same RGB or RGBA value for all points.\n",
      "*c* argument looks like a single numeric RGB or RGBA sequence, which should be avoided as value-mapping will have precedence in case its length matches with *x* & *y*.  Please use the *color* keyword-argument or provide a 2D array with a single row if you intend to specify the same RGB or RGBA value for all points.\n",
      "*c* argument looks like a single numeric RGB or RGBA sequence, which should be avoided as value-mapping will have precedence in case its length matches with *x* & *y*.  Please use the *color* keyword-argument or provide a 2D array with a single row if you intend to specify the same RGB or RGBA value for all points.\n",
      "*c* argument looks like a single numeric RGB or RGBA sequence, which should be avoided as value-mapping will have precedence in case its length matches with *x* & *y*.  Please use the *color* keyword-argument or provide a 2D array with a single row if you intend to specify the same RGB or RGBA value for all points.\n",
      "*c* argument looks like a single numeric RGB or RGBA sequence, which should be avoided as value-mapping will have precedence in case its length matches with *x* & *y*.  Please use the *color* keyword-argument or provide a 2D array with a single row if you intend to specify the same RGB or RGBA value for all points.\n",
      "*c* argument looks like a single numeric RGB or RGBA sequence, which should be avoided as value-mapping will have precedence in case its length matches with *x* & *y*.  Please use the *color* keyword-argument or provide a 2D array with a single row if you intend to specify the same RGB or RGBA value for all points.\n",
      "*c* argument looks like a single numeric RGB or RGBA sequence, which should be avoided as value-mapping will have precedence in case its length matches with *x* & *y*.  Please use the *color* keyword-argument or provide a 2D array with a single row if you intend to specify the same RGB or RGBA value for all points.\n",
      "*c* argument looks like a single numeric RGB or RGBA sequence, which should be avoided as value-mapping will have precedence in case its length matches with *x* & *y*.  Please use the *color* keyword-argument or provide a 2D array with a single row if you intend to specify the same RGB or RGBA value for all points.\n",
      "*c* argument looks like a single numeric RGB or RGBA sequence, which should be avoided as value-mapping will have precedence in case its length matches with *x* & *y*.  Please use the *color* keyword-argument or provide a 2D array with a single row if you intend to specify the same RGB or RGBA value for all points.\n"
     ]
    },
    {
     "data": {
      "image/png": "[encoded data removed]",
      "text/plain": [
       "<Figure size 1152x648 with 1 Axes>"
      ]
     },
     "metadata": {
      "needs_background": "light"
     },
     "output_type": "display_data"
    }
   ],
   "source": [
    "\n",
    "\n",
    "embeddings_clusters_wap = generate_embeddings(word_to_vec_model_wap, keys_wap)\n",
    "word_clusters_wap = word_clusters(word_to_vec_model_wap, keys_wap)\n",
    "\n",
    "\n",
    "folder_path_wap_img = f'{\"wap\"}/images'\n",
    "Path(folder_path_wap_img).mkdir(parents=True, exist_ok=True)\n",
    "plot_file_path_wap = f'{folder_path_wap_img}/similar_words_perplexity_{\"200\"}.png'\n",
    "\n",
    "\n",
    "tsne_plot_similar_words(f' {\"war and peace\"}', keys_wap, embeddings_clusters_wap, word_clusters_wap, 0.7, 100 ,\n",
    "    plot_file_path_wap)"
   ]
  },
  {
   "cell_type": "markdown",
   "metadata": {
    "id": "CWlWydbrgv4P"
   },
   "source": [
    "## Write down your analysis:\n",
    "\n",
    "### Generating graphs:\n",
    "* The projection was generated for the top 10 words that are similar. \n",
    "* Then, embedding clusters and word clusters are generated for the 10 words andprojection graphs are created. \n",
    "* Analysis: After experimentiing wiht a range of different perplexities I found that 100 was the best. For ranges around 100, there were convergence for both the datasets,\n",
    "* The convergence was greatest at the range from 95 to 103. \n",
    "\n",
    "### Describe Shakespeare plays\n",
    "* In this projection with a perplexity of 100, there are. \n",
    "* The top three groups are pretty much tightly clustered\n",
    "* In the bottom of the graph there is a tight cluster again and there are scattered data points to the right and nothing in the center of the graph. \n",
    "* In the bottoom, the datapoints unravel slowly with 2 single outliers that are on top of each other. \n",
    "\n",
    "### Describe war and peace\n",
    "* There are 6 groups roughly speaking in the war and peace dataset.\n",
    "* The clusters in the top left and top right corner have a largenumber of datapoints. \n",
    "* The group on the bottom is scattered a lot. \n",
    "* There are two outliers between the top and bottom left groups.\n",
    "* There are some goups that are arranged very loosely in the bottom of the graph.\n",
    "\n",
    "### Compare and contract the embeddings\n",
    "* The shakespeare dataset appeared to have the two densest clusters at the opposing bottom and right corners \n",
    "* The war and peace dataset has data that is clustered in the both sides of the grapgh and a  little loosely clustered at the bottom. \n",
    "* When we compare the two datasets, both the embeddings are easily seperated into closely related groups,\n",
    "* but in the war and peace dataset there are more groups than in the shakespeare dataset and the Covid embeddings suggest that the words themselves are less related. \n",
    "* This shows that war and peace covers a very different set of words and shakespeare datset has many different words for the same root word.\n"
   ]
  },
  {
   "cell_type": "markdown",
   "metadata": {
    "id": "-tmrTVDqt8G2"
   },
   "source": [
    "Cite your sources:\n",
    "-------------\n",
    "\n",
    "1. https://towardsdatascience.com/google-news-and-leo-tolstoy-visualizing-word2vec-word-embeddings-with-t-sne-11558d8bd4d\n",
    "\n",
    "\n",
    "2. https://radimrehurek.com/gensim/models/word2vec.html\n",
    "\n",
    "3. https://towardsdatascience.com/visualizing-word-embedding-with-pca-and-t-sne-961a692509f5"
   ]
  },
  {
   "cell_type": "markdown",
   "metadata": {
    "id": "ix2On6zat8G2"
   },
   "source": [
    "Step 3: Feedforward Neural Language Model\n",
    "--------------------------"
   ]
  },
  {
   "cell_type": "markdown",
   "metadata": {
    "id": "AZsCKQWDt8G2"
   },
   "source": [
    "### a) First, encode  your text into integers"
   ]
  },
  {
   "cell_type": "code",
   "execution_count": 21,
   "metadata": {
    "ExecuteTime": {
     "end_time": "2020-10-26T21:39:09.625031Z",
     "start_time": "2020-10-26T21:39:09.009109Z"
    },
    "id": "ec0KKYj0t8G3"
   },
   "outputs": [],
   "source": [
    "\n",
    "\n",
    "# Importing utility functions from Keras\n",
    "from keras.layers import Input\n",
    "from keras.losses import CategoricalCrossentropy\n",
    "from tensorflow.keras.optimizers import SGD\n",
    "from keras.preprocessing.text import Tokenizer\n",
    "from tensorflow.keras.utils import to_categorical\n",
    "from keras.models import Sequential\n",
    "from keras.layers import Dense\n",
    "from keras.layers import SimpleRNN\n",
    "from keras.layers import Embedding\n",
    "\n",
    "# The size of the ngram language model you want to train\n",
    "# change as needed for your experiments\n",
    "NGRAM = 3 \n",
    "\n",
    "\n",
    "# Initializing a Tokenizer\n",
    "# It is used to vectorize a text corpus. Here, it just creates a mapping from \n",
    "# word to a unique index. (Note: Indexing starts from 0)\n",
    "# Example:\n",
    "# tokenizer = Tokenizer()\n",
    "# tokenizer.fit_on_texts(data)\n",
    "# encoded = tokenizer.texts_to_sequences(data)\n",
    "\n",
    "# ENCODING TEXT TO INTEGERS FOR GIVEN DATASET: SHAKESPEARE\n",
    "tokenizer_s = Tokenizer()\n",
    "tokenizer_s.fit_on_texts(sentences_s)\n",
    "encoded_sentences_s = tokenizer_s.texts_to_sequences(sentences_s)\n",
    "\n",
    "\n",
    "# ENCODING TEXT TO INTEGERS FOR CHOSEN: WAR AND PEACE\n",
    "tokenizer_wap = Tokenizer()\n",
    "tokenizer_wap.fit_on_texts(sentences_wap)\n",
    "encoded_sentences_wap = tokenizer_wap.texts_to_sequences(sentences_wap)\n",
    "\n"
   ]
  },
  {
   "cell_type": "code",
   "execution_count": 22,
   "metadata": {
    "ExecuteTime": {
     "end_time": "2020-10-24T03:27:54.373208Z",
     "start_time": "2020-10-24T03:27:54.369835Z"
    },
    "id": "U1PrwlBAt8G5"
   },
   "outputs": [],
   "source": [
    "\n",
    "\n",
    "\n",
    "def read_embeddings(model: list, tokenizer : Tokenizer):\n",
    "    '''Loads and parses embeddings trained in earlier.\n",
    "    Parameters and return values are up to you.\n",
    "    '''\n",
    "    \n",
    "    # you may find generating the following two dicts useful:\n",
    "    # word to embedding : {'the':[0....], ...}\n",
    "    # index to embedding : {1:[0....], ...} \n",
    "    # use your tokenizer's word_index to find the index of\n",
    "    # a given word\n",
    "    \n",
    "    # seperating sequences\n",
    "    \n",
    "    # for the given dataset\n",
    "    word_to_embedding = dict(zip(model.wv.index_to_key,  model.wv.vectors))\n",
    "    index_to_embedding = {}\n",
    "\n",
    "    for i in word_to_embedding:\n",
    "        index_to_embedding[tokenizer.word_index[i]] = word_to_embedding[i]\n",
    "        \n",
    "    return  index_to_embedding\n",
    "    \n",
    "    pass\n",
    "\n"
   ]
  },
  {
   "cell_type": "code",
   "execution_count": 23,
   "metadata": {},
   "outputs": [],
   "source": [
    "index_to_embedding_s = read_embeddings(word_to_vec_model_s, tokenizer_s)\n",
    "index_to_embedding_wap = read_embeddings(word_to_vec_model_wap, tokenizer_wap)"
   ]
  },
  {
   "cell_type": "code",
   "execution_count": 24,
   "metadata": {},
   "outputs": [],
   "source": [
    "\n",
    "vocabulary_s = vocabulary(sentences_s).keys()\n",
    "\n",
    "vocabulary_wap = vocabulary(sentences_wap).keys()\n",
    "\n",
    "vocab_s = list(vocabulary_s)  \n",
    "    \n",
    "vocab_wap = list(vocabulary_wap)\n",
    "\n"
   ]
  },
  {
   "cell_type": "markdown",
   "metadata": {
    "id": "mCndArPmt8G5"
   },
   "source": [
    "### b) Next, prepare your sequences from text"
   ]
  },
  {
   "cell_type": "markdown",
   "metadata": {
    "id": "6jG42_9Xt8G6"
   },
   "source": [
    "#### Fixed ngram based sequences "
   ]
  },
  {
   "cell_type": "raw",
   "metadata": {
    "id": "HsoPVS8ct8G7"
   },
   "source": [
    "The training samples will be structured in the following format. \n",
    "Depending on which ngram model we choose, there will be (n-1) tokens \n",
    "in the input sequence (X) and we will need to predict the nth token (Y)\n",
    "\n",
    "            X,\t\t\t\t\t\t  y\n",
    "    this,    process               however\n",
    "    process, however               afforded\n",
    "    however, afforded\t           me"
   ]
  },
  {
   "cell_type": "code",
   "execution_count": 25,
   "metadata": {
    "ExecuteTime": {
     "end_time": "2020-10-24T05:21:28.039381Z",
     "start_time": "2020-10-24T05:21:24.941885Z"
    },
    "id": "B_4YqhKTt8G7"
   },
   "outputs": [],
   "source": [
    "\n",
    "def generate_ngram_training_samples(encoded_sentences: list) -> list:\n",
    "    '''\n",
    "    Takes the encoded data (list of lists) and \n",
    "    generates the training samples out of it.\n",
    "    Parameters:\n",
    "    up to you, we've put in what we used\n",
    "    but you can add/remove as needed\n",
    "    return: \n",
    "    list of lists in the format [[x1, x2, ... , x(n-1), y], ...]\n",
    "    '''\n",
    "    training_samples = []\n",
    "    single_gram = []\n",
    "    for line in encoded_sentences:\n",
    "        single_gram = [line[i:i + (NGRAM+1)] for i in range(len(line) - (NGRAM+1) + 1)]\n",
    "        training_samples += single_gram        \n",
    "\n",
    "    return training_samples"
   ]
  },
  {
   "cell_type": "code",
   "execution_count": 26,
   "metadata": {},
   "outputs": [],
   "source": [
    "generated_ngrams_s = generate_ngram_training_samples(encoded_sentences_s)\n",
    "generated_ngrams_wap = generate_ngram_training_samples(encoded_sentences_wap)"
   ]
  },
  {
   "cell_type": "markdown",
   "metadata": {
    "id": "BWL6Czlxt8G8"
   },
   "source": [
    "### c) Then, split the sequences into X and y and create a Data Generator"
   ]
  },
  {
   "cell_type": "code",
   "execution_count": 27,
   "metadata": {
    "ExecuteTime": {
     "end_time": "2020-10-24T05:21:31.213422Z",
     "start_time": "2020-10-24T05:21:31.061759Z"
    },
    "id": "csweN-d1t8G9"
   },
   "outputs": [],
   "source": [
    "# Note here that the sequences were in the form: \n",
    "# sequence = [x1, x2, ... , x(n-1), y]\n",
    "# We still need to separate it into [[x1, x2, ... , x(n-1)], ...], [y1, y2, ...]"
   ]
  },
  {
   "cell_type": "code",
   "execution_count": 28,
   "metadata": {
    "ExecuteTime": {
     "end_time": "2020-10-24T05:21:34.675827Z",
     "start_time": "2020-10-24T05:21:33.315288Z"
    },
    "id": "Vjr6vwP5t8G9"
   },
   "outputs": [],
   "source": [
    "\n",
    "def seperate_sequences(sequence : list):\n",
    "    \"\"\"\n",
    "    # Note here that the sequences were in the form: \n",
    "    # sequence = [x1, x2, ... , x(n-1), y]\n",
    "    # We still need to separate it into [[x1, x2, ... , x(n-1)], ...], [y1, y2, ...]s\n",
    "    \"\"\"\n",
    "    \n",
    "    X = []\n",
    "    Y = []\n",
    "    \n",
    "    for i in sequence:\n",
    "        X.append(i[0:(NGRAM)])\n",
    "        Y.append(i[-1])\n",
    "    \n",
    "    return X, Y\n",
    "    pass"
   ]
  },
  {
   "cell_type": "code",
   "execution_count": 29,
   "metadata": {},
   "outputs": [],
   "source": [
    "X_s, Y_s = seperate_sequences(generated_ngrams_s)\n",
    "\n",
    "X_wap, Y_wap = seperate_sequences(generated_ngrams_wap)"
   ]
  },
  {
   "cell_type": "code",
   "execution_count": 30,
   "metadata": {},
   "outputs": [],
   "source": [
    "\n",
    "def encoded_to_input_data(index_to_embedding : dict, X : list, y : list):\n",
    "    \"\"\"\n",
    "    convert the encoded data into data for the data generator. \n",
    "    Converts X to embedded data\n",
    "    converts y to categorical data\n",
    "    \"\"\"\n",
    "    # data_generator function    \n",
    "    one_hot = []\n",
    "    embeddings = []\n",
    "    allArrays = np.array([])\n",
    "\n",
    "    for j in X:\n",
    "        \n",
    "        allArrays = np.concatenate( [index_to_embedding[x] for x in j] )  \n",
    "        # allArrays = np.reshape(allArrays,(1, len(allArrays)))\n",
    "        embeddings.append(allArrays)\n",
    "        \n",
    "    all_y = to_categorical(y)    \n",
    "       \n",
    "    return embeddings,all_y\n",
    "    pass"
   ]
  },
  {
   "cell_type": "code",
   "execution_count": 31,
   "metadata": {},
   "outputs": [],
   "source": [
    "X_embeddings_s, Y_embeddings_s = encoded_to_input_data(index_to_embedding_s, X_s, Y_s)\n",
    "X_embeddings_wap, Y_embeddings_wap = encoded_to_input_data(index_to_embedding_wap, X_wap, Y_wap)"
   ]
  },
  {
   "cell_type": "code",
   "execution_count": 32,
   "metadata": {
    "ExecuteTime": {
     "end_time": "2020-10-24T05:22:24.016237Z",
     "start_time": "2020-10-24T05:22:24.011220Z"
    },
    "id": "H6g9g7p6t8G9"
   },
   "outputs": [],
   "source": [
    "# Examples\n",
    "# initialize data_generator\n",
    "num_num_sequences_per_batch_batch = 1280 # this is the batch size\n",
    "# steps_per_epoch = len(sequences)//num_sequences_per_batch  # Number of batches per epoch\n",
    "# train_generator = data_generator(X, y, num_sequences_per_batch)\n",
    "\n",
    "# sample=next(train_generator) # this is how you get data out of generators\n",
    "# sample[0].shape # (batch_size, (n-1)*EMBEDDING_SIZE)  (128, 200)\n",
    "# sample[1].shape   # (batch_size, |V|) to_categorical\n",
    "\n",
    "\n",
    "\n",
    "def data_generator(X_embeddings: List, y_embeddings: List, num_sequences_per_batch: int) -> (list,list):\n",
    "    '''\n",
    "    Returns data generator to be used by feed_forward\n",
    "    https://wiki.python.org/moin/Generators\n",
    "    https://realpython.com/introduction-to-python-generators/\n",
    "    \n",
    "    Yields batches of embeddings and labels to go with them.\n",
    "    Use one hot vectors to encode the labels \n",
    "    (see the to_categorical function)\n",
    "    \n",
    "    '''\n",
    "    total_number_of_embeddings = len(X_embeddings)\n",
    "    per_epoch_steps = total_number_of_embeddings//num_sequences_per_batch\n",
    "    cur_pos = 0\n",
    "    while True:\n",
    "        num = int(cur_pos % per_epoch_steps)\n",
    "        st = (num) * num_sequences_per_batch\n",
    "        ed = (num + 1) * num_sequences_per_batch\n",
    "        x_emb = np.array(X_embeddings[st:ed])\n",
    "        y_emb = np.array(y_embeddings[st:ed])\n",
    "        \n",
    "        yield x_emb,y_emb\n",
    "        \n",
    "        cur_pos += 1\n",
    "\n",
    "        \n",
    "def create_generator(X_embeddings, Y_embeddings):\n",
    "    steps_per_epoch = len(X_embeddings)//num_num_sequences_per_batch_batch \n",
    "    ngram_generator = data_generator(X_embeddings, Y_embeddings ,num_num_sequences_per_batch_batch)\n",
    "    return ngram_generator, steps_per_epoch"
   ]
  },
  {
   "cell_type": "code",
   "execution_count": 33,
   "metadata": {
    "ExecuteTime": {
     "end_time": "2020-10-24T05:22:55.470133Z",
     "start_time": "2020-10-24T05:22:55.398259Z"
    },
    "id": "vgXSWdlMt8G-"
   },
   "outputs": [],
   "source": [
    "# Examples\n",
    "# initialize data_generator\n",
    "# num_sequences_per_batch = 128 # this is the batch size\n",
    "# steps_per_epoch = len(sequences)//num_sequences_per_batch  # Number of batches per epoch\n",
    "# train_generator = data_generator(X, y, num_sequences_per_batch)\n",
    "\n",
    "# sample=next(train_generator) # this is how you get data out of generators\n",
    "# sample[0].shape # (batch_size, (n-1)*EMBEDDING_SIZE)  (128, 200)\n",
    "# sample[1].shape   # (batch_size, |V|) to_categorical\n",
    "\n",
    "\n",
    "ngram_generator_s, steps_per_epoch_s = create_generator(X_embeddings_s, Y_embeddings_s)\n",
    "ngram_generator_wap, steps_per_epoch_wap = create_generator(X_embeddings_wap, Y_embeddings_wap)\n",
    "\n"
   ]
  },
  {
   "cell_type": "markdown",
   "metadata": {
    "id": "yzfweqz1t8G-"
   },
   "source": [
    "### d) Train your models"
   ]
  },
  {
   "cell_type": "code",
   "execution_count": 34,
   "metadata": {
    "ExecuteTime": {
     "end_time": "2020-10-24T03:56:50.919869Z",
     "start_time": "2020-10-24T03:56:50.779792Z"
    },
    "id": "KmgNnQj5t8G_"
   },
   "outputs": [],
   "source": [
    "# code to train a feedforward neural language model \n",
    "# on a set of given word embeddings\n",
    "# make sure not to just copy + paste to train your two models\n",
    "\n",
    "# Define the model architecture using Keras Sequential API\n",
    "\n",
    "\n",
    "\n",
    "\n",
    "def create_model(input_size:int, vocab_size:int):\n",
    "    \"\"\" \n",
    "    creates a neural network model and returns it\n",
    "    \"\"\"\n",
    "    # Define the model architecture using Keras Sequential API\n",
    "    model = Sequential()\n",
    "    ip_size = NGRAM*EMBEDDINGS_SIZE\n",
    "    model.add(Input((input_size, ip_size)))\n",
    "    model.add(Dense(ip_size, activation='relu'))\n",
    "    model.add(Dense(vocab_size, activation='softmax'))\n",
    "\n",
    "    return model\n"
   ]
  },
  {
   "cell_type": "markdown",
   "metadata": {},
   "source": [
    "### SHAKESPEARE PLAYS MODEL"
   ]
  },
  {
   "cell_type": "code",
   "execution_count": 35,
   "metadata": {},
   "outputs": [
    {
     "name": "stdout",
     "output_type": "stream",
     "text": [
      "Model: \"sequential\"\n",
      "_________________________________________________________________\n",
      "Layer (type)                 Output Shape              Param #   \n",
      "=================================================================\n",
      "dense (Dense)                (None, 449383, 600)       360600    \n",
      "_________________________________________________________________\n",
      "dense_1 (Dense)              (None, 449383, 17843)     10723643  \n",
      "=================================================================\n",
      "Total params: 11,084,243\n",
      "Trainable params: 11,084,243\n",
      "Non-trainable params: 0\n",
      "_________________________________________________________________\n",
      "None\n"
     ]
    }
   ],
   "source": [
    "\n",
    "embedding_length_s = len(X_embeddings_s)\n",
    "vocabulary_length_s = len(Y_embeddings_s[1])\n",
    "\n",
    "model_s = create_model(embedding_length_s, vocabulary_length_s)\n",
    "print(model_s.summary())"
   ]
  },
  {
   "cell_type": "code",
   "execution_count": 36,
   "metadata": {
    "id": "eCZ2S5mpt8HA"
   },
   "outputs": [
    {
     "name": "stdout",
     "output_type": "stream",
     "text": [
      "WARNING:tensorflow:Model was constructed with shape (None, 449383, 600) for input KerasTensor(type_spec=TensorSpec(shape=(None, 449383, 600), dtype=tf.float32, name='input_1'), name='input_1', description=\"created by layer 'input_1'\"), but it was called on an input with incompatible shape (None, None).\n",
      "WARNING:tensorflow:Model was constructed with shape (None, 449383, 600) for input KerasTensor(type_spec=TensorSpec(shape=(None, 449383, 600), dtype=tf.float32, name='input_1'), name='input_1', description=\"created by layer 'input_1'\"), but it was called on an input with incompatible shape (None, None).\n",
      "351/351 [==============================] - 492s 1s/step - loss: 7.6973 - accuracy: 0.0377\n"
     ]
    },
    {
     "data": {
      "text/plain": [
       "<keras.callbacks.History at 0x7ff2c9816ca0>"
      ]
     },
     "execution_count": 36,
     "metadata": {},
     "output_type": "execute_result"
    }
   ],
   "source": [
    "\n",
    "# Start training the model\n",
    "l_rate = 0.1\n",
    "model_s.compile(loss=CategoricalCrossentropy(), optimizer=SGD(learning_rate=l_rate), metrics=['accuracy'])\n",
    "\n",
    "model_s.fit(x=ngram_generator_s, steps_per_epoch=steps_per_epoch_s, epochs=1)"
   ]
  },
  {
   "cell_type": "markdown",
   "metadata": {},
   "source": [
    "### WAR AND PEACE MODEL"
   ]
  },
  {
   "cell_type": "code",
   "execution_count": 37,
   "metadata": {},
   "outputs": [
    {
     "name": "stdout",
     "output_type": "stream",
     "text": [
      "Model: \"sequential_1\"\n",
      "_________________________________________________________________\n",
      "Layer (type)                 Output Shape              Param #   \n",
      "=================================================================\n",
      "dense_2 (Dense)              (None, 258538, 600)       360600    \n",
      "_________________________________________________________________\n",
      "dense_3 (Dense)              (None, 258538, 12802)     7694002   \n",
      "=================================================================\n",
      "Total params: 8,054,602\n",
      "Trainable params: 8,054,602\n",
      "Non-trainable params: 0\n",
      "_________________________________________________________________\n",
      "None\n"
     ]
    }
   ],
   "source": [
    "\n",
    "embedding_length_wap = len(X_embeddings_wap)\n",
    "vocabulary_length_wap = len(Y_embeddings_wap[1])\n",
    "\n",
    "\n",
    "model_wap = create_model(embedding_length_wap, vocabulary_length_wap)\n",
    "print(model_wap.summary())"
   ]
  },
  {
   "cell_type": "code",
   "execution_count": 38,
   "metadata": {},
   "outputs": [
    {
     "name": "stdout",
     "output_type": "stream",
     "text": [
      "WARNING:tensorflow:Model was constructed with shape (None, 258538, 600) for input KerasTensor(type_spec=TensorSpec(shape=(None, 258538, 600), dtype=tf.float32, name='input_2'), name='input_2', description=\"created by layer 'input_2'\"), but it was called on an input with incompatible shape (None, None).\n",
      "WARNING:tensorflow:Model was constructed with shape (None, 258538, 600) for input KerasTensor(type_spec=TensorSpec(shape=(None, 258538, 600), dtype=tf.float32, name='input_2'), name='input_2', description=\"created by layer 'input_2'\"), but it was called on an input with incompatible shape (None, None).\n",
      "201/201 [==============================] - 207s 1s/step - loss: 7.4191 - accuracy: 0.0963\n"
     ]
    },
    {
     "data": {
      "text/plain": [
       "<keras.callbacks.History at 0x7fe778414a90>"
      ]
     },
     "execution_count": 38,
     "metadata": {},
     "output_type": "execute_result"
    }
   ],
   "source": [
    "\n",
    "l_rate = 0.1\n",
    "model_wap.compile(loss=CategoricalCrossentropy(), optimizer=SGD(learning_rate=l_rate), metrics=['accuracy'])\n",
    "\n",
    "model_wap.fit(x=ngram_generator_wap, steps_per_epoch=steps_per_epoch_wap, epochs=1)"
   ]
  },
  {
   "cell_type": "markdown",
   "metadata": {
    "id": "3QwRhKYwt8HA"
   },
   "source": [
    "### e) Generate Sentences"
   ]
  },
  {
   "cell_type": "code",
   "execution_count": null,
   "metadata": {},
   "outputs": [],
   "source": []
  },
  {
   "cell_type": "code",
   "execution_count": 39,
   "metadata": {
    "ExecuteTime": {
     "end_time": "2020-10-24T04:14:13.123529Z",
     "start_time": "2020-10-24T04:14:13.000264Z"
    },
    "id": "XZ9fShSyt8HB"
   },
   "outputs": [],
   "source": [
    "# converts the inut seed to embeddings\n",
    "def convert_input_to_embedding(tokenizer, input_sequence : list, index_to_embedding: dict):\n",
    "    \n",
    "    embeddings = []   \n",
    "    encoded_in = tokenizer.texts_to_sequences(input_sequence)\n",
    "\n",
    "    encoded_input = [ item for elem in encoded_in for item in elem]\n",
    "\n",
    "    allArrays = np.concatenate( [index_to_embedding[x] for x in encoded_input] )  \n",
    "  \n",
    "    return allArrays\n",
    "    pass\n",
    "\n"
   ]
  },
  {
   "cell_type": "code",
   "execution_count": 40,
   "metadata": {},
   "outputs": [],
   "source": [
    "\n",
    "def get_next_word(index_to_embedding: dict, tokenizer, model, vocabulary: list, seed: list) -> str:\n",
    "    \"\"\"\n",
    "    returns a word generated\n",
    "    \"\"\"\n",
    "\n",
    "    embeddings_array = []\n",
    "    \n",
    "    sent_emb = convert_input_to_embedding(tokenizer, seed, index_to_embedding)\n",
    "    \n",
    "    embeddings_array.append(sent_emb)\n",
    "\n",
    "    embeddings_array = np.array(embeddings_array)\n",
    "\n",
    "    prob_matrix = model.predict(embeddings_array)\n",
    "    \n",
    "    random_index = len(prob_matrix[0])\n",
    "    \n",
    "    probability = prob_matrix[0]                   \n",
    "\n",
    "    next_word_index = np.random.choice(np.arange(random_index), 1, p = probability)[0]         \n",
    "\n",
    "    \n",
    "    next_word = vocabulary[next_word_index]\n",
    "    return next_word"
   ]
  },
  {
   "cell_type": "code",
   "execution_count": 41,
   "metadata": {},
   "outputs": [],
   "source": [
    "\n",
    "\n",
    "def generate_random_seed(X : list, vocabulary_words: list )-> list:\n",
    "    \n",
    "    total_len_of_seq = len(X)\n",
    "    random_number = random.randint(0, total_len_of_seq - 1)\n",
    "    sample_seed = X[random_number]\n",
    "    seed = []\n",
    "\n",
    "    for index in sample_seed:\n",
    "        seed.append(vocabulary_words[index])\n",
    "    return seed\n",
    "    pass\n",
    "\n"
   ]
  },
  {
   "cell_type": "code",
   "execution_count": 42,
   "metadata": {},
   "outputs": [],
   "source": [
    "\n",
    "def generate_seq(vocabulary: dict, index_to_embedding: dict, model, tokenizer, n_words: int, seed: list):\n",
    "    '''\n",
    "    Parameters:\n",
    "        model: your neural network\n",
    "        tokenizer: the keras preprocessing tokenizer\n",
    "        seed: [w1, w2, w(n-1)]\n",
    "        n_words: generate a sentence of length n_words\n",
    "    Returns: string sentence\n",
    "    '''\n",
    "\n",
    "    generated_sequence = []\n",
    "    \n",
    "    for i in range(0, n_words):\n",
    "        next_word = get_next_word(index_to_embedding, tokenizer, model, vocabulary, seed)\n",
    "        generated_sequence.append(next_word)\n",
    "        \n",
    "        seed.append(next_word)\n",
    "        seed.pop(0)\n",
    "        \n",
    "    final_str = \" \".join(generated_sequence)\n",
    "    return final_str\n",
    "    pass\n"
   ]
  },
  {
   "cell_type": "code",
   "execution_count": 43,
   "metadata": {},
   "outputs": [],
   "source": [
    "\n",
    "seed_s = generate_random_seed(X_s , vocab_s)\n",
    "seed_wap = generate_random_seed(X_wap , vocab_wap)\n"
   ]
  },
  {
   "cell_type": "markdown",
   "metadata": {},
   "source": [
    "### 25 SENTENCES PRINTED BY THE SHAKEASPEARE MODEL"
   ]
  },
  {
   "cell_type": "code",
   "execution_count": 44,
   "metadata": {},
   "outputs": [
    {
     "name": "stdout",
     "output_type": "stream",
     "text": [
      "WARNING:tensorflow:Model was constructed with shape (None, 449383, 600) for input KerasTensor(type_spec=TensorSpec(shape=(None, 449383, 600), dtype=tf.float32, name='input_1'), name='input_1', description=\"created by layer 'input_1'\"), but it was called on an input with incompatible shape (None, 600).\n",
      "1  :  sepulchres cook grow florence sima nobleman winged bounties knapp provender briefest malignant deesse cytherea invectives rudder des nature friend lark\n",
      "      \n",
      "2  :  record screw sing shall bounties agrippa follower respecting kam tippling paintings sincerely sharpness audacious bounties retiring franchises rosencrantz often rottenness\n",
      "      \n",
      "3  :  fetches loseth abundantly coating flamens lace nostril seld propounded thomas root unquestionable befall undid excellent rousillon steward with him lord\n",
      "      \n",
      "4  :  friend work enter son well that clown s dramatis perpendicular forked aides fruitless rarities prescriptions jennet forenoon ganymede colours grown\n",
      "      \n",
      "5  :  by warrant spur divorcing ruin threescore default bunghole basket unelected converses reflecting truncheoners trump thirsts neglectingly and france death mariana\n",
      "      \n",
      "6  :  loads dazzles instigations bachelor life an of that abroad cheering famous bullcalf border sons france forgetful restless situation jeshu calaber\n",
      "      \n",
      "7  :  outwent pacified adornings cropp importunity soar crop reaps ripp redoubted page clown bertram countess neighbour dramatis patch now majesty well\n",
      "      \n",
      "8  :  jamy steward cropped springe and devoured amnipotent lords urgest hyrcanian than passion son count william shipwright servant sooth protected bates\n",
      "      \n",
      "9  :  dint florence on well footing is throat to that dramatis match demuring son fells hasten prepare bury but hautboys godhead\n",
      "      \n",
      "10  :  stockfish comrade memorable mishap make florence ends meek turlygod vulgar ay bestrid thoughtful osprey kindled questrists actively dropping biggen belong\n",
      "      \n",
      "11  :  batler years and bounce shambles bullcalf marshall that spectators angliae favourites twinn overblown happened me doubly residing mildew excellence deserts\n",
      "      \n",
      "12  :  whate william opener spill where creator scaly morrow yarn fantasy protected muddy unlaid becoming nerves rudely by created fervency unseason\n",
      "      \n",
      "13  :  defect lucifer steely feet the beginning majesty page assault king steward dispositions bridegrooms velvet rascally flats spirt am searcheth although\n",
      "      \n",
      "14  :  nonny vagabond remaineth playing obsque blanks unpurged foster pranks sleeps think unclean page an holy ends neighbour constraining by clown\n",
      "      \n",
      "15  :  furnish serving the shakespeare me personae clown pastime all armies tyrants sullies interrupts purpled foreshow disguise draw mares warr seeks\n",
      "      \n",
      "16  :  imperfect peevish sicken presence ends neighbour other william serving weep pac old soldiers mountain ends ends personae father by lord\n",
      "      \n",
      "17  :  crooked franticly delay learned than what florentine paris now stumbled freckled declines evermore soundless token excus wing grizzled gentlewoman widow\n",
      "      \n",
      "18  :  sluttish was methinks still protected silenc mates ill ligarius well that poorest by personae impossible umbrage garners consumption knowest ptolemies\n",
      "      \n",
      "19  :  additions valley cuckoldly witching expectancy stoutly mournfully surpris liar itself oswald well ceremonious participation clotens nobleman nature vouches gaping with\n",
      "      \n",
      "20  :  immediate paintings gentlewoman shakespeare unparallel so by sake an ends what now snow by jealousy epithites grapes angling summer stream\n",
      "      \n",
      "21  :  solely daughter parolles deputy lavache oxford well that 1 lords serving a fortunately tearing offering smoking scaly leaner treading roughness\n",
      "      \n",
      "22  :  clust girdle warder twisted unqualitied stumbling siz stride calmest standing building montgomery goest brats chickens ends top parolles am officers\n",
      "      \n",
      "23  :  count kirtles servant speak forsooth dramatis ends hold that murders homewards lest helena rousillon ulcer aloft of eke truest comedians\n",
      "      \n",
      "24  :  reward senior william daughter count daughter moiety mother son florence ends longer sucking soldiership addicted lackey stanley defence rousillon personae\n",
      "      \n",
      "25  :  by sir debtor goose bertram chanticleer underwent foix bend poise braid relative scarus blackmere torch expel pewter evils patroness pleasant\n",
      "      \n"
     ]
    }
   ],
   "source": [
    "NUMBER_OF_SENTENCES_TO_PRINT = 25\n",
    "for i in range(0, NUMBER_OF_SENTENCES_TO_PRINT):\n",
    "    generated_sentence_s = generate_seq(vocab_s, index_to_embedding_s, model_s, tokenizer_s, 20, seed_s) \n",
    "    print(i+1, \" : \" ,generated_sentence_s)\n",
    "    print(\"      \")"
   ]
  },
  {
   "cell_type": "markdown",
   "metadata": {},
   "source": [
    "### 25 SENTENCES PRINTED BY THE WAR AND PEACE MODEL"
   ]
  },
  {
   "cell_type": "code",
   "execution_count": 45,
   "metadata": {},
   "outputs": [
    {
     "name": "stdout",
     "output_type": "stream",
     "text": [
      "WARNING:tensorflow:Model was constructed with shape (None, 258538, 600) for input KerasTensor(type_spec=TensorSpec(shape=(None, 258538, 600), dtype=tf.float32, name='input_2'), name='input_2', description=\"created by layer 'input_2'\"), but it was called on an input with incompatible shape (None, 600).\n",
      "1  :  family i infamies i swarming portend rebels courtier deepened turmoil flashed slim heed nostitz highfalutin actor nonreceipt fourth epoch stoutness\n",
      "      \n",
      "2  :  estates attending breadth spilt took news hundredweight fleas wider bolkónski acquainted knowing that warn detailed puzzled heated blank inaccessible shining\n",
      "      \n",
      "3  :  suffering prince cleverest candles i appeal turtle scene massive vigor circumstance beardless monkey gasconades termination solved expression becomes shelf steppe\n",
      "      \n",
      "4  :  opera clear quench inadequacy novel offensively staking conferring traces wild seekers greeting convoyman aboveboard amazing father bravery trotted comprehension finger\n",
      "      \n",
      "5  :  banister touches quivered berlin devait 30 mosquitoes seek suspense pat measured give proposes man infamies shop kempis outbuildings expression valleys\n",
      "      \n",
      "6  :  carpets gratefully effects insistence awkward improving estates anna utterly </s> weak conversation greeted hundreds charmed distance glittered continuous career plumage\n",
      "      \n",
      "7  :  dishonored minuteness picture affaires metallic perpetrated puff still pools bridles melyukóv sabers significant overhanging shared testament watching shoes dio conquest\n",
      "      \n",
      "8  :  partly prominent smartened unaware sinner fellow poetry camp bobtailed discredited </s> spoken characteristically well usual a buried popping dashboard conspicuous\n",
      "      \n",
      "9  :  kárlovich phenomenon lipped maybe magnanimity forsaken alénina curtsy victim impoliteness busily unbearable replies feel retraced drowning tilting mélancholie derogates decidedly\n",
      "      \n",
      "10  :  beseech avec smeared girlish blew slut shall antichrist ordeal build infinite definitely austerity corded alimony fraternal semënov n slyboots wrongs\n",
      "      \n",
      "11  :  swallow remembrance secondary pwovisions late gazed i king flourishing i tell prince so well well symbolized genoa reforms turmoil nickname\n",
      "      \n",
      "12  :  bearing chromatic tu revealing unsteady farewell away dragoons musicians estates gaiety distributing diverting but nervousness burst speck tawny taking lyubím\n",
      "      \n",
      "13  :  peuples pursued unfavorable nervously intentions but i ledge i well flat family really </s> petted prince yúkhnovna privately annette conflict\n",
      "      \n",
      "14  :  flitted subscribed draught buonapartes butler expert unwell spontaneous oasis summer portly emigrant rafts forgets might sends radiant genoa looked bodices\n",
      "      \n",
      "15  :  poles least yourself and used climb violence wasted separation are coloring grasseyement impressed 100 each galling patterns ekonómov mort danube\n",
      "      \n",
      "16  :  larks emerge plucked tactician fortresses but herculean slipping shouldering trotting that war pale i </s> </s> and helping develop turkey\n",
      "      \n",
      "17  :  mikháylovna and breakfasting decaying sometimes stained pretexts pour adopted reputed lines abashed deeply decreed my rejoinders study january punctuation developing\n",
      "      \n",
      "18  :  unescorted aussi remarkably comfortable zíkin rimés </s> embroidery provincial beings whining flail negligence apoplectic unmarried union rough shrill hunters key\n",
      "      \n",
      "19  :  xxvi spin certainly paper sunburned subscription tried bespattering loans conceived even debts force comic shown horrors impossibility trend passages mirrors\n",
      "      \n",
      "20  :  boned prospect concluding y mead wrapped kolyázin war so force colored prospect and un horse i family to collection languor\n",
      "      \n",
      "21  :  rival fiercely dignity better </s> believe of hares accrue promising confluence studied spinning mort banging invincible maksím envious mirónov sentiment\n",
      "      \n",
      "22  :  forced authorities rrrr betrothed gloomily shalt now deferentially privilege fortress brick wanted i don but i 1805 prince that believe\n",
      "      \n",
      "23  :  estates i i i i temperature you oublie irascibility talking family upset well greatness reassured suit inaudible genlis bonheur comfortably\n",
      "      \n",
      "24  :  man corpse screened censured lied latitude altering loathe fearful ulyulyulyu châle fatherland ruling anteroom frank mademoiselle teatime triumph pétya marrying\n",
      "      \n",
      "25  :  and well crybaby i overclean keg fédya shades tells haunched emitted powder postulant improvised opposite mind bloody silence </s> defend\n",
      "      \n"
     ]
    }
   ],
   "source": [
    "NUMBER_OF_SENTENCES_TO_PRINT = 25\n",
    "for i in range(0, NUMBER_OF_SENTENCES_TO_PRINT):\n",
    "    generated_sentence_wap = generate_seq(vocab_wap, index_to_embedding_wap, model_wap, tokenizer_wap, 20, seed_wap) \n",
    "    print(i+1, \" : \" ,generated_sentence_wap)\n",
    "    print(\"      \")"
   ]
  },
  {
   "cell_type": "markdown",
   "metadata": {},
   "source": [
    "#### SENTENCES GENRATED  BY THE HW2 MODEL\n",
    "##### BI GRAM LAPLACE SMOOTHED\n",
    "* can be close maybe we like \n",
    "* vegetarian food \n",
    "* are there a\n",
    "* okay why don't\n",
    "* i would like \n",
    "* what about cafe de\n",
    "* can you have \n",
    "* hi i'm </s>\n",
    "* oh i would like </s>\n",
    "* i want to </s>\n",
    "* how about </s>\n",
    "* do you </s>\n",
    "* where's <UNK> </s>\n",
    "* i think i </s>\n",
    "* computer uh </s>\n",
    "* i can you have </s>\n",
    "* i would like </s>\n",
    "* let's start over </s>\n",
    "* i'm in berkeley </s>\n",
    "* i only go </s>\n",
    "* please </s>\n",
    "* i would like </s>\n",
    "* how about </s>\n",
    "* i want to </s>\n",
    "* list </s>\n",
    "* do they have </s>\n",
    "* cafe can </s>\n",
    "* it could </s>\n",
    "* i want some </s>\n",
    "* how expensive </s>\n",
    "* i'd like to </s>\n",
    "* an italian </s>\n",
    "* tell me </s>\n",
    "*  okay i </s>\n",
    "* tell me </s>\n",
    "* i'm willing to </s>\n",
    "* i want cambodian restaurants </s>\n",
    "* i'd like to </s>\n",
    "* howbout san__francisco </s>\n",
    "* i'd like i like </s>\n",
    "* start over </s>\n",
    "* can i </s>\n",
    "* i see the </s>\n",
    "* can i </s>\n",
    "* could you give me </s>\n",
    "* i <UNK> </s>\n",
    "* okay go </s>\n",
    "* i'd like to </s>\n",
    "* um i </s>\n",
    "* i don't want to </s>"
   ]
  },
  {
   "cell_type": "markdown",
   "metadata": {
    "id": "w68JVS2jt8HB"
   },
   "source": [
    "### f) Compare your generated sentences"
   ]
  },
  {
   "cell_type": "markdown",
   "metadata": {},
   "source": [
    "\n",
    "\n",
    "#### Answer the question: Do your neural language models produce n-grams that were not observed during training? (1 paragraph, you may support this answer with code as desired).\n",
    "\n",
    "The model can produce n grams thatare not sen during training. This is because it is rare for a dataset to cover all the n grams in a given corpus.\n",
    "For example , the n gram \"he said that\". The n gram can be permutated to \"said that he\". Thsi n gram will not be observed during training as it is a new ngram which is generated and cannot be found in the corpus.\n",
    "If the words are closely linked, like \"he,\" \"said,\" and \"that,\" it is feasible that the model will construct a sequence using these words that was not encountered in the training dataset.\n",
    "Let's take a look at this scenario in terms abstract letters. Take the sentence \"a b c d c b a\". Taking naivebayes into consideration, given the initial character \"d\", the only number that could be generated with probabilities from the matrix would be \"c.\"\n",
    "Examine the letter \"d c.\"\n",
    "The numbers \"b\" and \"d\" appear after \"c.\"\n",
    "Given that \"c\" can follow \"d\" and \"d\" can follow \"c,\" the sequence \"d c d\" can be created.\n",
    "Given a seed of \"d c,\" the model in our word embeddings scenario may predict the next value to be \"b\" or \"d\" because the embeddings should be similar. \n",
    " If we apply this concept to a much bigger vocabulary and a model trained on many more sequences, we can construct a character n after (n-1) that has never appeared two positions before (n-2).\n",
    "The character's location is denoted by n. \n",
    "\n",
    "### Compare your generated sentences:\n",
    "\n",
    "* The sentences generated by the neural network are not that meaningful and coherent. \n",
    "* This wa sbecause the model had a very low accuracy.\n",
    "* Grammar:\n",
    "    * the words generated by the homework 2 model were more grammatically correct\n",
    "    * the sentences generated by this neural network did not follow a proper grammatical pattern\n",
    "* Example from HW@ \"- \\ could you give me \\\". \n",
    "* Example from HW4 \" man corpse screened censured lied latitude altering loathe fearful ulyulyulyu châle fatherland ruling anteroom frank mademoiselle teatime triumph pétya marrying\"\n",
    "* As we can see it does not make much grammatical sense\n",
    "* The reason for this is the simple architecture of our neural network.\n",
    "* This dataset also seemed to be relatively small, but we don't have enough context to make that judgement.\n",
    "* Neural models are much better when provided with ore data and training time. They can store a lot more data, which necessitates more data and a more intelligent architecture in order to extract good findings. "
   ]
  },
  {
   "cell_type": "markdown",
   "metadata": {
    "id": "yet5p8N1t8HC"
   },
   "source": [
    "Sources Cited\n",
    "----------------------------\n"
   ]
  },
  {
   "cell_type": "markdown",
   "metadata": {
    "id": "2sPu_1h2t8HC"
   },
   "source": [
    "\n",
    "\n",
    "1. https://machinelearningmastery.com/use-word-embedding-layers-deep-learning-keras/\n",
    "    \n",
    "2. https://blog.paperspace.com/pre-trained-word-embeddings-natural-language-processing/\n",
    "    \n",
    "3. https://www.tensorflow.org/text/guide/word_embeddings\n",
    "4. https://radimrehurek.com/gensim/models/word2vec.html\n",
    "5. https://hemantranvir.medium.com/spam-detection-using-rnn-simplernn-lstm-with-step-by-step-explanation-    530367608071\n",
    "6. https://towardsdatascience.com/google-news-and-leo-tolstoy-visualizing-word2vec-word-embeddings-with-t-sne-11558d8bd4d\n",
    "\n",
    "7. https://stackabuse.com/python-for-nlp-word-embeddings-for-deep-learning-in-keras/\n"
   ]
  },
  {
   "cell_type": "code",
   "execution_count": null,
   "metadata": {},
   "outputs": [],
   "source": []
  }
 ],
 "metadata": {
  "colab": {
   "collapsed_sections": [],
   "name": "wordembeddings_starter.ipynb",
   "provenance": []
  },
  "kernelspec": {
   "display_name": "Python 3",
   "language": "python",
   "name": "python3"
  },
  "language_info": {
   "codemirror_mode": {
    "name": "ipython",
    "version": 3
   },
   "file_extension": ".py",
   "mimetype": "text/x-python",
   "name": "python",
   "nbconvert_exporter": "python",
   "pygments_lexer": "ipython3",
   "version": "3.8.5"
  }
 },
 "nbformat": 4,
 "nbformat_minor": 1
}
